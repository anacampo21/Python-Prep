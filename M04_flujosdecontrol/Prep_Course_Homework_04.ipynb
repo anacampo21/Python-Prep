{
 "cells": [
  {
   "attachments": {},
   "cell_type": "markdown",
   "metadata": {},
   "source": [
    "## Flujos de Control"
   ]
  },
  {
   "attachments": {},
   "cell_type": "markdown",
   "metadata": {},
   "source": [
    "1) Crear una variable que contenga un elemento del conjunto de números enteros y luego imprimir por pantalla si es mayor o menor a cero"
   ]
  },
  {
   "cell_type": "code",
   "execution_count": 15,
   "metadata": {},
   "outputs": [
    {
     "name": "stdout",
     "output_type": "stream",
     "text": [
      "La variable es mayor a cero\n"
     ]
    }
   ],
   "source": [
    "variable =8\n",
    "if variable > 0:\n",
    "    print(\"La variable es mayor a cero\")\n",
    "elif variable < 0:\n",
    "    print(\"La variable es menor a cero\")\n",
    "else:\n",
    "    print(\"La variable es igual a cero\")        \n",
    "\n",
    "\n"
   ]
  },
  {
   "attachments": {},
   "cell_type": "markdown",
   "metadata": {},
   "source": [
    "2) Crear dos variables y un condicional que informe si son del mismo tipo de dato"
   ]
  },
  {
   "cell_type": "code",
   "execution_count": 16,
   "metadata": {},
   "outputs": [
    {
     "name": "stdout",
     "output_type": "stream",
     "text": [
      "Las variables son de distinto tipo de datos\n"
     ]
    }
   ],
   "source": [
    "a=8\n",
    "b=\"Hola\"\n",
    "\n",
    "if type(a)==type(b):\n",
    "    print(\"Las dos variables son del mismo tipo de dato\")\n",
    "else:\n",
    "    print(\"Las variables son de distinto tipo de datos\")"
   ]
  },
  {
   "attachments": {},
   "cell_type": "markdown",
   "metadata": {},
   "source": [
    "3) Para los valores enteros del 1 al 20, imprimir por pantalla si es par o impar"
   ]
  },
  {
   "cell_type": "code",
   "execution_count": 15,
   "metadata": {},
   "outputs": [
    {
     "name": "stdout",
     "output_type": "stream",
     "text": [
      "El numero  1 es impar\n",
      "El numero  2 es par\n",
      "El numero  3 es impar\n",
      "El numero  4 es par\n",
      "El numero  5 es impar\n",
      "El numero  6 es par\n",
      "El numero  7 es impar\n",
      "El numero  8 es par\n",
      "El numero  9 es impar\n",
      "El numero  10 es par\n",
      "El numero  11 es impar\n",
      "El numero  12 es par\n",
      "El numero  13 es impar\n",
      "El numero  14 es par\n",
      "El numero  15 es impar\n",
      "El numero  16 es par\n",
      "El numero  17 es impar\n",
      "El numero  18 es par\n",
      "El numero  19 es impar\n",
      "El numero  20 es par\n"
     ]
    }
   ],
   "source": [
    "for i in range(1,21):\n",
    "    division=i % 2\n",
    "    if division==0:\n",
    "        print(f\"El numero \",(i),\"es par\")\n",
    "    else:\n",
    "        print(f\"El numero \",(i),\"es impar\")    "
   ]
  },
  {
   "attachments": {},
   "cell_type": "markdown",
   "metadata": {},
   "source": [
    "4) En un ciclo for mostrar para los valores entre 0 y 5 el resultado de elevarlo a la potencia igual a 3"
   ]
  },
  {
   "cell_type": "code",
   "execution_count": 22,
   "metadata": {},
   "outputs": [
    {
     "name": "stdout",
     "output_type": "stream",
     "text": [
      "Resultado de  0 elevado a la 3: 0\n",
      "Resultado de  1 elevado a la 3: 1\n",
      "Resultado de  2 elevado a la 3: 8\n",
      "Resultado de  3 elevado a la 3: 27\n",
      "Resultado de  4 elevado a la 3: 64\n",
      "Resultado de  5 elevado a la 3: 125\n"
     ]
    }
   ],
   "source": [
    "for i in range(0,6):\n",
    "    potencia=i**3\n",
    "    print(\"Resultado de \",i,\"elevado a la 3:\",potencia)"
   ]
  },
  {
   "attachments": {},
   "cell_type": "markdown",
   "metadata": {},
   "source": [
    "5) Crear una variable que contenga un número entero y realizar un ciclo for la misma cantidad de ciclos"
   ]
  },
  {
   "cell_type": "code",
   "execution_count": 19,
   "metadata": {},
   "outputs": [
    {
     "name": "stdout",
     "output_type": "stream",
     "text": [
      "ciclo numero: 5\n"
     ]
    }
   ],
   "source": [
    "variable=6\n",
    "for i in range(0,variable):\n",
    "    pass\n",
    "print(\"ciclo numero:\", i)"
   ]
  },
  {
   "attachments": {},
   "cell_type": "markdown",
   "metadata": {},
   "source": [
    "6) Utilizar un ciclo while para realizar el factorial de un número guardado en una variable, sólo si la variable contiene un número entero mayor a 0"
   ]
  },
  {
   "cell_type": "code",
   "execution_count": 9,
   "metadata": {},
   "outputs": [
    {
     "name": "stdout",
     "output_type": "stream",
     "text": [
      "El factorial de  4 es:  24\n"
     ]
    }
   ],
   "source": [
    "numero=4\n",
    "\n",
    "factorial=1\n",
    "i=1\n",
    "while i <= numero:\n",
    "    factorial = factorial * i\n",
    "    i = i + 1\n",
    "print(f\"El factorial de \",numero,\"es: \",factorial)    "
   ]
  },
  {
   "cell_type": "code",
   "execution_count": 24,
   "metadata": {},
   "outputs": [
    {
     "name": "stdout",
     "output_type": "stream",
     "text": [
      "El factorial es:  24\n"
     ]
    }
   ],
   "source": [
    "n = 4\n",
    "\n",
    "if (type(n)==int):\n",
    "    if (n > 0):\n",
    "        factorial = n\n",
    "        while (n > 2):\n",
    "            n = n - 1\n",
    "            factorial = factorial * n\n",
    "        print(\"El factorial es: \",factorial)    \n",
    "    else:\n",
    "        print(\"La variable no es mayor a cero\")    \n",
    "else:\n",
    "    print(\"La variable no es un entero\")    "
   ]
  },
  {
   "attachments": {},
   "cell_type": "markdown",
   "metadata": {},
   "source": [
    "7) Crear un ciclo for dentro de un ciclo while"
   ]
  },
  {
   "cell_type": "code",
   "execution_count": 30,
   "metadata": {},
   "outputs": [
    {
     "name": "stdout",
     "output_type": "stream",
     "text": [
      "Ciclo while nº:  1\n",
      "Ciclo for nº:  1\n",
      "Ciclo for nº:  2\n",
      "Ciclo for nº:  3\n",
      "Ciclo for nº:  4\n",
      "Ciclo while nº:  2\n",
      "Ciclo for nº:  1\n",
      "Ciclo for nº:  2\n",
      "Ciclo for nº:  3\n",
      "Ciclo for nº:  4\n",
      "Ciclo while nº:  3\n",
      "Ciclo for nº:  1\n",
      "Ciclo for nº:  2\n",
      "Ciclo for nº:  3\n",
      "Ciclo for nº:  4\n",
      "Ciclo while nº:  4\n",
      "Ciclo for nº:  1\n",
      "Ciclo for nº:  2\n",
      "Ciclo for nº:  3\n",
      "Ciclo for nº:  4\n"
     ]
    }
   ],
   "source": [
    "numero = 4\n",
    "i= 1\n",
    "while (i <= numero):\n",
    "    print (\"Ciclo while nº: \",i) \n",
    "    for x in range(1,numero+1):\n",
    "        print(\"Ciclo for nº: \",x)\n",
    "    i= i + 1     "
   ]
  },
  {
   "attachments": {},
   "cell_type": "markdown",
   "metadata": {},
   "source": [
    "8) Crear un ciclo while dentro de un ciclo for"
   ]
  },
  {
   "cell_type": "code",
   "execution_count": 33,
   "metadata": {},
   "outputs": [
    {
     "name": "stdout",
     "output_type": "stream",
     "text": [
      "Ciclo for nº:  1\n",
      "Ciclo while nº:  1\n",
      "Ciclo while nº:  2\n",
      "Ciclo while nº:  3\n",
      "Ciclo while nº:  4\n",
      "Ciclo for nº:  2\n",
      "Ciclo for nº:  3\n",
      "Ciclo for nº:  4\n"
     ]
    }
   ],
   "source": [
    "numero = 4\n",
    "i=1\n",
    "\n",
    "for x in range(1,numero+1):\n",
    "    print(\"Ciclo for nº: \",x)\n",
    "    while (i <= numero):\n",
    "        print(\"Ciclo while nº: \",i)\n",
    "        i = i + 1 \n",
    "     "
   ]
  },
  {
   "attachments": {},
   "cell_type": "markdown",
   "metadata": {},
   "source": [
    "9) Imprimir los números primos existentes entre 0 y 30"
   ]
  },
  {
   "cell_type": "code",
   "execution_count": 36,
   "metadata": {},
   "outputs": [
    {
     "name": "stdout",
     "output_type": "stream",
     "text": [
      "El número  2 es primo\n",
      "El número  3 es primo\n",
      "El número  5 es primo\n",
      "El número  7 es primo\n",
      "El número  11 es primo\n",
      "El número  13 es primo\n",
      "El número  17 es primo\n",
      "El número  19 es primo\n",
      "El número  23 es primo\n",
      "El número  29 es primo\n"
     ]
    }
   ],
   "source": [
    "max = 30\n",
    "min = 2\n",
    "\n",
    "for n in range(min, max+1):\n",
    "    es_primo = True\n",
    "    for j in range(2,n):\n",
    "        if n % j == 0:\n",
    "            es_primo = False\n",
    "    if es_primo:\n",
    "        print(\"El número \",n, \"es primo\")"
   ]
  },
  {
   "attachments": {},
   "cell_type": "markdown",
   "metadata": {},
   "source": [
    "10) ¿Se puede mejorar el proceso del punto 9? Utilizar las sentencias break y/ó continue para tal fin"
   ]
  },
  {
   "cell_type": "code",
   "execution_count": 40,
   "metadata": {},
   "outputs": [
    {
     "name": "stdout",
     "output_type": "stream",
     "text": [
      "El número  2 es primo\n",
      "El número  3 es primo\n",
      "El número  5 es primo\n",
      "El número  7 es primo\n",
      "El número  11 es primo\n",
      "El número  13 es primo\n",
      "El número  17 es primo\n",
      "El número  19 es primo\n",
      "El número  23 es primo\n",
      "El número  29 es primo\n"
     ]
    }
   ],
   "source": [
    "max = 30\n",
    "min = 2\n",
    "\n",
    "for n in range(min, max+1):\n",
    "    for j in range(2,n):\n",
    "        if n % j == 0:\n",
    "            break\n",
    "    else:\n",
    "        print(\"El número \",n, \"es primo\")"
   ]
  },
  {
   "attachments": {},
   "cell_type": "markdown",
   "metadata": {},
   "source": [
    "11) En los puntos 9 y 10, se diseño un código que encuentra números primos y además se lo optimizó. ¿Es posible saber en qué medida se optimizó?"
   ]
  },
  {
   "cell_type": "code",
   "execution_count": 41,
   "metadata": {},
   "outputs": [
    {
     "name": "stdout",
     "output_type": "stream",
     "text": [
      "El número  2 es primo\n",
      "El número  3 es primo\n",
      "El número  5 es primo\n",
      "El número  7 es primo\n",
      "El número  11 es primo\n",
      "El número  13 es primo\n",
      "El número  17 es primo\n",
      "El número  19 es primo\n",
      "El número  23 es primo\n",
      "El número  29 es primo\n",
      "Se realizaron  406  ciclos\n"
     ]
    }
   ],
   "source": [
    "## Ciclo sin break\n",
    "max = 30\n",
    "min = 2\n",
    "contador = 0\n",
    "\n",
    "for n in range(min, max+1):\n",
    "    es_primo = True\n",
    "    for j in range(2,n):\n",
    "        contador += 1\n",
    "        if n % j == 0:\n",
    "            es_primo = False\n",
    "    if es_primo:\n",
    "        print(\"El número \",n, \"es primo\")\n",
    "print(\"Se realizaron \",contador,\" ciclos\")"
   ]
  },
  {
   "cell_type": "code",
   "execution_count": 42,
   "metadata": {},
   "outputs": [
    {
     "name": "stdout",
     "output_type": "stream",
     "text": [
      "El número  2 es primo\n",
      "El número  3 es primo\n",
      "El número  5 es primo\n",
      "El número  7 es primo\n",
      "El número  11 es primo\n",
      "El número  13 es primo\n",
      "El número  17 es primo\n",
      "El número  19 es primo\n",
      "El número  23 es primo\n",
      "El número  29 es primo\n",
      "Se realizaron  135  ciclos\n"
     ]
    }
   ],
   "source": [
    "## Ciclo con break\n",
    "max = 30\n",
    "min = 2\n",
    "contador = 0\n",
    "\n",
    "for n in range(min, max+1):\n",
    "    for j in range(2,n):\n",
    "        contador += 1\n",
    "        if n % j == 0:\n",
    "            break\n",
    "    else:\n",
    "        print(\"El número \",n, \"es primo\")\n",
    "print(\"Se realizaron \",contador,\" ciclos\")        "
   ]
  },
  {
   "attachments": {},
   "cell_type": "markdown",
   "metadata": {},
   "source": [
    "12) Aplicando continue, armar un ciclo while que solo imprima los valores divisibles por 12, dentro del rango de números de 100 a 300"
   ]
  },
  {
   "cell_type": "code",
   "execution_count": 43,
   "metadata": {},
   "outputs": [
    {
     "name": "stdout",
     "output_type": "stream",
     "text": [
      "108 es divisible por 12\n",
      "120 es divisible por 12\n",
      "132 es divisible por 12\n",
      "144 es divisible por 12\n",
      "156 es divisible por 12\n",
      "168 es divisible por 12\n",
      "180 es divisible por 12\n",
      "192 es divisible por 12\n",
      "204 es divisible por 12\n",
      "216 es divisible por 12\n",
      "228 es divisible por 12\n",
      "240 es divisible por 12\n",
      "252 es divisible por 12\n",
      "264 es divisible por 12\n",
      "276 es divisible por 12\n",
      "288 es divisible por 12\n",
      "300 es divisible por 12\n"
     ]
    }
   ],
   "source": [
    "n = 99\n",
    "while (n <= 300):\n",
    "    n += 1\n",
    "    if (n % 12 != 0):\n",
    "        continue\n",
    "    print(n, \"es divisible por 12\")"
   ]
  },
  {
   "attachments": {},
   "cell_type": "markdown",
   "metadata": {},
   "source": [
    "13) Utilizar la función **input()** que permite hacer ingresos por teclado, para encontrar números primos y dar la opción al usario de buscar el siguiente"
   ]
  },
  {
   "cell_type": "code",
   "execution_count": 47,
   "metadata": {},
   "outputs": [
    {
     "name": "stdout",
     "output_type": "stream",
     "text": [
      "El número  2 es primo\n",
      "El número  3 es primo\n",
      "El número  5 es primo\n",
      "El número  7 es primo\n",
      "El número  11 es primo\n",
      "El número  13 es primo\n",
      "El número  17 es primo\n",
      "El número  19 es primo\n",
      "El número  23 es primo\n",
      "El número  29 es primo\n"
     ]
    }
   ],
   "source": [
    "max = 30\n",
    "min = 2\n",
    "n = min\n",
    "\n",
    "while (n <= max):\n",
    "    es_primo = True\n",
    "    for j in range(2, n):\n",
    "        if n % j == 0:\n",
    "            break\n",
    "    else:\n",
    "        print(\"El número \",n, \"es primo\")\n",
    "        respuesta = input(\"¿Quieres buscar el siguiente número primo? (s/n): \")\n",
    "        if respuesta == \"s\":\n",
    "            n += 1\n",
    "            continue\n",
    "        else:\n",
    "            break\n",
    "    n += 1    \n",
    "   "
   ]
  },
  {
   "attachments": {},
   "cell_type": "markdown",
   "metadata": {},
   "source": [
    "14) Crear un ciclo while que encuentre dentro del rango de 100 a 300 el primer número divisible por 3 y además múltiplo de 6"
   ]
  },
  {
   "cell_type": "code",
   "execution_count": 50,
   "metadata": {},
   "outputs": [
    {
     "name": "stdout",
     "output_type": "stream",
     "text": [
      "El numero es:  102\n",
      "El numero es:  108\n",
      "El numero es:  114\n",
      "El numero es:  120\n",
      "El numero es:  126\n",
      "El numero es:  132\n",
      "El numero es:  138\n",
      "El numero es:  144\n",
      "El numero es:  150\n",
      "El numero es:  156\n",
      "El numero es:  162\n",
      "El numero es:  168\n",
      "El numero es:  174\n",
      "El numero es:  180\n",
      "El numero es:  186\n",
      "El numero es:  192\n",
      "El numero es:  198\n",
      "El numero es:  204\n",
      "El numero es:  210\n",
      "El numero es:  216\n",
      "El numero es:  222\n",
      "El numero es:  228\n",
      "El numero es:  234\n",
      "El numero es:  240\n",
      "El numero es:  246\n",
      "El numero es:  252\n",
      "El numero es:  258\n",
      "El numero es:  264\n",
      "El numero es:  270\n",
      "El numero es:  276\n",
      "El numero es:  282\n",
      "El numero es:  288\n",
      "El numero es:  294\n",
      "El numero es:  300\n"
     ]
    }
   ],
   "source": [
    "n = 100\n",
    "while (n <= 300):\n",
    "    if (n % 6 == 0):\n",
    "        print(\"El numero es: \", n)\n",
    "    n += 1    "
   ]
  }
 ],
 "metadata": {
  "interpreter": {
   "hash": "c85384e4cb51c8b72350f3a8712cc8351fdc3955e32a27f9b60c6242ab125f01"
  },
  "kernelspec": {
   "display_name": "Python 3 (ipykernel)",
   "language": "python",
   "name": "python3"
  },
  "language_info": {
   "codemirror_mode": {
    "name": "ipython",
    "version": 3
   },
   "file_extension": ".py",
   "mimetype": "text/x-python",
   "name": "python",
   "nbconvert_exporter": "python",
   "pygments_lexer": "ipython3",
   "version": "3.11.6"
  }
 },
 "nbformat": 4,
 "nbformat_minor": 4
}
